{
 "cells": [
  {
   "cell_type": "code",
   "execution_count": 45,
   "metadata": {
    "scrolled": true
   },
   "outputs": [],
   "source": [
    "# Imports\n",
    "\n",
    "import gspread as gs\n",
    "import pandas as pd\n",
    "import plotly.graph_objects as go"
   ]
  },
  {
   "cell_type": "code",
   "execution_count": 46,
   "metadata": {},
   "outputs": [],
   "source": [
    "# Match Results Google Sheet\n",
    "sheet_id = \"1RBWOGn_cBeK9qQmSbVz7NE_XGTBwevMVOFWbW9EHGf8\"\n",
    "sheet_name = \"Match_Results_2\"\n",
    "url = f\"https://docs.google.com/spreadsheets/d/{sheet_id}/gviz/tq?tqx=out:csv&sheet={sheet_name}\"\n",
    "results_df = pd.read_csv(url).fillna('')\n",
    "results_df = results_df.sort_values('Match Week', ascending=False)\n",
    "# results_df.head(50)"
   ]
  },
  {
   "cell_type": "code",
   "execution_count": 47,
   "metadata": {
    "scrolled": false
   },
   "outputs": [],
   "source": [
    "# Creating Won_Loss Results Table\n",
    "winners = dict(enumerate(results_df['Match Winner']))\n",
    "losers = dict(enumerate(results_df['Match Loser']))\n",
    "winners.update(losers)\n",
    "players = winners\n",
    "wins = results_df['player1'].value_counts()\n",
    "losses = results_df['player2'].value_counts()\n",
    "w_l = pd.concat([wins,losses],axis=1).fillna(0).astype(int).round().rename(columns={'player1':'Wins','player2':'Losses'})\n",
    "w_l.loc[:,'Matches']=w_l.sum(numeric_only=True, axis=1)\n",
    "w_l['Win%'] = w_l['Wins']/w_l['Matches']\n",
    "w_l['Player']=w_l.index\n",
    "column_names = ['Player',\"Matches\", \"Wins\", \"Losses\", \"Win%\"]\n",
    "w_l['Win%'] = w_l['Win%'].round(3)\n",
    "w_l = w_l.reindex(columns=column_names)\n",
    "w_l = w_l.reset_index(drop=True)\n",
    "# w_l.head(10)"
   ]
  },
  {
   "cell_type": "code",
   "execution_count": 48,
   "metadata": {},
   "outputs": [],
   "source": [
    "# Rankings\n",
    "rankings_df = pd.read_csv('Rankings.csv')\n",
    "rankings_df.drop_duplicates(subset=['Player'],inplace=True)\n",
    "rankings_df.set_index(['Player'],inplace=True,drop=False)\n",
    "rankings_df.loc[:,'Elo']=1600\n",
    "initial_ranking = 1600\n",
    "k_factor = 32\n",
    "# rankings_df.head(20)"
   ]
  },
  {
   "cell_type": "code",
   "execution_count": 49,
   "metadata": {
    "scrolled": true
   },
   "outputs": [],
   "source": [
    "# Elo Formula\n",
    "def elo_formula(p1_ranking,p2_ranking,p1_score,p2_score,k_factor):\n",
    "    R1 = 10**(p1_ranking/400)\n",
    "    R2 = 10**(p2_ranking/400)\n",
    "    exp_1 = R1/(R1+R2)\n",
    "    exp_2 = R2/(R1+R2)\n",
    "    Elo_1 = p1_ranking+k_factor*(p1_score-exp_1)\n",
    "    Elo_2 = p2_ranking+k_factor*(p2_score-exp_2)\n",
    "    return Elo_1, Elo_2"
   ]
  },
  {
   "cell_type": "code",
   "execution_count": 50,
   "metadata": {},
   "outputs": [],
   "source": [
    "#this loop reads the scores in order starting from the top of the matches\n",
    "#every time you run this loop it will read all of the scores again\n",
    "for idx in results_df.index:\n",
    "    player_1 = results_df.player1[idx]\n",
    "    p1_score = results_df.player1score[idx]\n",
    "    player_2 = results_df.player2[idx]\n",
    "    p2_score = results_df.player2score[idx]\n",
    "    current_rankings_list = list(set(rankings_df.index))\n",
    "    if player_1 in current_rankings_list:\n",
    "        p1_ranking = rankings_df.at[player_1,'Elo']\n",
    "    else:\n",
    "        p1_ranking = initial_ranking\n",
    "    if player_2 in current_rankings_list:\n",
    "        p2_ranking = rankings_df.at[player_2,'Elo']\n",
    "    else:\n",
    "        p2_ranking = initial_ranking\n",
    "    \n",
    "    Elo_1, Elo_2 = elo_formula(p1_ranking,p2_ranking,p1_score,p2_score,k_factor)\n",
    "    \n",
    "    if player_1 in current_rankings_list:\n",
    "        rankings_df.at[player_1,'Elo'] = Elo_1\n",
    "    else:\n",
    "        new_Elo_dict = {'Player':player_1,'Elo':Elo_1}\n",
    "        rankings_df = rankings_df.append(new_Elo_dict, ignore_index=True)\n",
    "        rankings_df.set_index(['Player'],inplace=True,drop=False)\n",
    "    if player_2 in current_rankings_list:\n",
    "        rankings_df.at[player_2,'Elo'] = Elo_2\n",
    "    else:\n",
    "        new_Elo_dict = {'Player':player_2,'Elo':Elo_2}\n",
    "        rankings_df = rankings_df.append(new_Elo_dict, ignore_index=True)\n",
    "        rankings_df.set_index(['Player'],inplace=True,drop=False)\n",
    "rankings_df.reset_index(drop=True,inplace=True)\n",
    "rankings_df.sort_values(by=['Elo'],inplace=True,ascending=False,ignore_index=True)\n",
    "rankings_df.index+=1\n",
    "rankings_df.to_csv('Rankings.csv',index=False)"
   ]
  },
  {
   "cell_type": "code",
   "execution_count": 51,
   "metadata": {
    "scrolled": true
   },
   "outputs": [
    {
     "data": {
      "text/html": [
       "<div>\n",
       "<style scoped>\n",
       "    .dataframe tbody tr th:only-of-type {\n",
       "        vertical-align: middle;\n",
       "    }\n",
       "\n",
       "    .dataframe tbody tr th {\n",
       "        vertical-align: top;\n",
       "    }\n",
       "\n",
       "    .dataframe thead th {\n",
       "        text-align: right;\n",
       "    }\n",
       "</style>\n",
       "<table border=\"1\" class=\"dataframe\">\n",
       "  <thead>\n",
       "    <tr style=\"text-align: right;\">\n",
       "      <th></th>\n",
       "      <th>Player</th>\n",
       "      <th>ELO</th>\n",
       "      <th>Elo</th>\n",
       "    </tr>\n",
       "  </thead>\n",
       "  <tbody>\n",
       "    <tr>\n",
       "      <th>1</th>\n",
       "      <td>Mike Dunlap</td>\n",
       "      <td>1684.0</td>\n",
       "      <td>1718</td>\n",
       "    </tr>\n",
       "    <tr>\n",
       "      <th>2</th>\n",
       "      <td>Missy Kayko</td>\n",
       "      <td>1670.0</td>\n",
       "      <td>1695</td>\n",
       "    </tr>\n",
       "    <tr>\n",
       "      <th>3</th>\n",
       "      <td>Ben Brown</td>\n",
       "      <td>1678.0</td>\n",
       "      <td>1682</td>\n",
       "    </tr>\n",
       "    <tr>\n",
       "      <th>4</th>\n",
       "      <td>Jeff Ziev</td>\n",
       "      <td>1630.0</td>\n",
       "      <td>1679</td>\n",
       "    </tr>\n",
       "    <tr>\n",
       "      <th>5</th>\n",
       "      <td>Bob Sauchelli</td>\n",
       "      <td>1617.0</td>\n",
       "      <td>1652</td>\n",
       "    </tr>\n",
       "    <tr>\n",
       "      <th>6</th>\n",
       "      <td>Eric Papa</td>\n",
       "      <td>1631.0</td>\n",
       "      <td>1650</td>\n",
       "    </tr>\n",
       "    <tr>\n",
       "      <th>7</th>\n",
       "      <td>Mike Brady</td>\n",
       "      <td>1600.0</td>\n",
       "      <td>1650</td>\n",
       "    </tr>\n",
       "    <tr>\n",
       "      <th>8</th>\n",
       "      <td>Nelson Bakerman</td>\n",
       "      <td>1640.0</td>\n",
       "      <td>1649</td>\n",
       "    </tr>\n",
       "    <tr>\n",
       "      <th>9</th>\n",
       "      <td>Paul Assad</td>\n",
       "      <td>1617.0</td>\n",
       "      <td>1648</td>\n",
       "    </tr>\n",
       "    <tr>\n",
       "      <th>10</th>\n",
       "      <td>Ryan Leggette</td>\n",
       "      <td>1627.0</td>\n",
       "      <td>1648</td>\n",
       "    </tr>\n",
       "    <tr>\n",
       "      <th>11</th>\n",
       "      <td>Adam Fratino</td>\n",
       "      <td>1598.0</td>\n",
       "      <td>1625</td>\n",
       "    </tr>\n",
       "    <tr>\n",
       "      <th>12</th>\n",
       "      <td>Anthony Buccellato</td>\n",
       "      <td>1613.0</td>\n",
       "      <td>1625</td>\n",
       "    </tr>\n",
       "    <tr>\n",
       "      <th>13</th>\n",
       "      <td>Ben Cole</td>\n",
       "      <td>1583.0</td>\n",
       "      <td>1620</td>\n",
       "    </tr>\n",
       "    <tr>\n",
       "      <th>14</th>\n",
       "      <td>Duan Knibbs</td>\n",
       "      <td>1616.0</td>\n",
       "      <td>1618</td>\n",
       "    </tr>\n",
       "    <tr>\n",
       "      <th>15</th>\n",
       "      <td>Justin Goodfellow</td>\n",
       "      <td>1615.0</td>\n",
       "      <td>1617</td>\n",
       "    </tr>\n",
       "    <tr>\n",
       "      <th>16</th>\n",
       "      <td>Paul Jones</td>\n",
       "      <td>1601.0</td>\n",
       "      <td>1613</td>\n",
       "    </tr>\n",
       "    <tr>\n",
       "      <th>17</th>\n",
       "      <td>Nick Shields</td>\n",
       "      <td>1584.0</td>\n",
       "      <td>1609</td>\n",
       "    </tr>\n",
       "    <tr>\n",
       "      <th>18</th>\n",
       "      <td>Matt Bird</td>\n",
       "      <td>1582.0</td>\n",
       "      <td>1608</td>\n",
       "    </tr>\n",
       "    <tr>\n",
       "      <th>19</th>\n",
       "      <td>Isaac Dunn</td>\n",
       "      <td>1601.0</td>\n",
       "      <td>1603</td>\n",
       "    </tr>\n",
       "    <tr>\n",
       "      <th>20</th>\n",
       "      <td>Chris Widgren</td>\n",
       "      <td>1632.0</td>\n",
       "      <td>1602</td>\n",
       "    </tr>\n",
       "    <tr>\n",
       "      <th>21</th>\n",
       "      <td>Kurowska</td>\n",
       "      <td>1600.0</td>\n",
       "      <td>1601</td>\n",
       "    </tr>\n",
       "    <tr>\n",
       "      <th>22</th>\n",
       "      <td>Colin Kelly</td>\n",
       "      <td>1599.0</td>\n",
       "      <td>1601</td>\n",
       "    </tr>\n",
       "    <tr>\n",
       "      <th>23</th>\n",
       "      <td>test1</td>\n",
       "      <td>1600.0</td>\n",
       "      <td>1600</td>\n",
       "    </tr>\n",
       "    <tr>\n",
       "      <th>24</th>\n",
       "      <td>Test1</td>\n",
       "      <td>1600.0</td>\n",
       "      <td>1600</td>\n",
       "    </tr>\n",
       "    <tr>\n",
       "      <th>25</th>\n",
       "      <td>test2</td>\n",
       "      <td>1600.0</td>\n",
       "      <td>1600</td>\n",
       "    </tr>\n",
       "    <tr>\n",
       "      <th>26</th>\n",
       "      <td>Test2</td>\n",
       "      <td>1600.0</td>\n",
       "      <td>1600</td>\n",
       "    </tr>\n",
       "    <tr>\n",
       "      <th>27</th>\n",
       "      <td>Tom Witteman</td>\n",
       "      <td>1600.0</td>\n",
       "      <td>1600</td>\n",
       "    </tr>\n",
       "    <tr>\n",
       "      <th>28</th>\n",
       "      <td>David Chester</td>\n",
       "      <td>1616.0</td>\n",
       "      <td>1599</td>\n",
       "    </tr>\n",
       "    <tr>\n",
       "      <th>29</th>\n",
       "      <td>Judy O'Brien</td>\n",
       "      <td>1597.0</td>\n",
       "      <td>1596</td>\n",
       "    </tr>\n",
       "    <tr>\n",
       "      <th>30</th>\n",
       "      <td>Roger Gibian</td>\n",
       "      <td>1583.0</td>\n",
       "      <td>1594</td>\n",
       "    </tr>\n",
       "    <tr>\n",
       "      <th>31</th>\n",
       "      <td>Damir Uzunic</td>\n",
       "      <td>1602.0</td>\n",
       "      <td>1589</td>\n",
       "    </tr>\n",
       "    <tr>\n",
       "      <th>32</th>\n",
       "      <td>Tom Wittemann</td>\n",
       "      <td>NaN</td>\n",
       "      <td>1588</td>\n",
       "    </tr>\n",
       "    <tr>\n",
       "      <th>33</th>\n",
       "      <td>Stephen Dargo</td>\n",
       "      <td>1581.0</td>\n",
       "      <td>1587</td>\n",
       "    </tr>\n",
       "    <tr>\n",
       "      <th>34</th>\n",
       "      <td>Jared Sochinsky</td>\n",
       "      <td>1584.0</td>\n",
       "      <td>1587</td>\n",
       "    </tr>\n",
       "    <tr>\n",
       "      <th>35</th>\n",
       "      <td>Colin Hanson</td>\n",
       "      <td>1584.0</td>\n",
       "      <td>1585</td>\n",
       "    </tr>\n",
       "    <tr>\n",
       "      <th>36</th>\n",
       "      <td>Chris Greene</td>\n",
       "      <td>1585.0</td>\n",
       "      <td>1585</td>\n",
       "    </tr>\n",
       "    <tr>\n",
       "      <th>37</th>\n",
       "      <td>Kofi Wilson</td>\n",
       "      <td>1584.0</td>\n",
       "      <td>1585</td>\n",
       "    </tr>\n",
       "    <tr>\n",
       "      <th>38</th>\n",
       "      <td>Dave Hitchings</td>\n",
       "      <td>1585.0</td>\n",
       "      <td>1585</td>\n",
       "    </tr>\n",
       "    <tr>\n",
       "      <th>39</th>\n",
       "      <td>Rob Leonardi</td>\n",
       "      <td>1585.0</td>\n",
       "      <td>1585</td>\n",
       "    </tr>\n",
       "    <tr>\n",
       "      <th>40</th>\n",
       "      <td>Demelo</td>\n",
       "      <td>1584.0</td>\n",
       "      <td>1584</td>\n",
       "    </tr>\n",
       "    <tr>\n",
       "      <th>41</th>\n",
       "      <td>Amelia Burger</td>\n",
       "      <td>1583.0</td>\n",
       "      <td>1583</td>\n",
       "    </tr>\n",
       "    <tr>\n",
       "      <th>42</th>\n",
       "      <td>Ian Ainley</td>\n",
       "      <td>1599.0</td>\n",
       "      <td>1583</td>\n",
       "    </tr>\n",
       "    <tr>\n",
       "      <th>43</th>\n",
       "      <td>Merle</td>\n",
       "      <td>1583.0</td>\n",
       "      <td>1582</td>\n",
       "    </tr>\n",
       "    <tr>\n",
       "      <th>44</th>\n",
       "      <td>Jeff Weber</td>\n",
       "      <td>1588.0</td>\n",
       "      <td>1574</td>\n",
       "    </tr>\n",
       "    <tr>\n",
       "      <th>45</th>\n",
       "      <td>Steve Olsen</td>\n",
       "      <td>1585.0</td>\n",
       "      <td>1572</td>\n",
       "    </tr>\n",
       "    <tr>\n",
       "      <th>46</th>\n",
       "      <td>Pat Murphy</td>\n",
       "      <td>1568.0</td>\n",
       "      <td>1572</td>\n",
       "    </tr>\n",
       "    <tr>\n",
       "      <th>47</th>\n",
       "      <td>Deb Czeresko</td>\n",
       "      <td>1583.0</td>\n",
       "      <td>1565</td>\n",
       "    </tr>\n",
       "    <tr>\n",
       "      <th>48</th>\n",
       "      <td>Alyssa Bird</td>\n",
       "      <td>1568.0</td>\n",
       "      <td>1555</td>\n",
       "    </tr>\n",
       "    <tr>\n",
       "      <th>49</th>\n",
       "      <td>Paul Czeresko</td>\n",
       "      <td>1566.0</td>\n",
       "      <td>1549</td>\n",
       "    </tr>\n",
       "    <tr>\n",
       "      <th>50</th>\n",
       "      <td>George Brown</td>\n",
       "      <td>1585.0</td>\n",
       "      <td>1532</td>\n",
       "    </tr>\n",
       "    <tr>\n",
       "      <th>51</th>\n",
       "      <td>Jeff Behrens</td>\n",
       "      <td>1584.0</td>\n",
       "      <td>1528</td>\n",
       "    </tr>\n",
       "    <tr>\n",
       "      <th>52</th>\n",
       "      <td>Dana Vandagriff</td>\n",
       "      <td>1567.0</td>\n",
       "      <td>1524</td>\n",
       "    </tr>\n",
       "    <tr>\n",
       "      <th>53</th>\n",
       "      <td>Sarah Mroue</td>\n",
       "      <td>1567.0</td>\n",
       "      <td>1512</td>\n",
       "    </tr>\n",
       "    <tr>\n",
       "      <th>54</th>\n",
       "      <td>Phil O'Brien</td>\n",
       "      <td>1584.0</td>\n",
       "      <td>1489</td>\n",
       "    </tr>\n",
       "    <tr>\n",
       "      <th>55</th>\n",
       "      <td>Tiffany Schleigh</td>\n",
       "      <td>1553.0</td>\n",
       "      <td>1488</td>\n",
       "    </tr>\n",
       "  </tbody>\n",
       "</table>\n",
       "</div>"
      ],
      "text/plain": [
       "                Player     ELO   Elo\n",
       "1          Mike Dunlap  1684.0  1718\n",
       "2          Missy Kayko  1670.0  1695\n",
       "3            Ben Brown  1678.0  1682\n",
       "4            Jeff Ziev  1630.0  1679\n",
       "5        Bob Sauchelli  1617.0  1652\n",
       "6            Eric Papa  1631.0  1650\n",
       "7           Mike Brady  1600.0  1650\n",
       "8      Nelson Bakerman  1640.0  1649\n",
       "9           Paul Assad  1617.0  1648\n",
       "10       Ryan Leggette  1627.0  1648\n",
       "11        Adam Fratino  1598.0  1625\n",
       "12  Anthony Buccellato  1613.0  1625\n",
       "13            Ben Cole  1583.0  1620\n",
       "14         Duan Knibbs  1616.0  1618\n",
       "15   Justin Goodfellow  1615.0  1617\n",
       "16          Paul Jones  1601.0  1613\n",
       "17        Nick Shields  1584.0  1609\n",
       "18           Matt Bird  1582.0  1608\n",
       "19          Isaac Dunn  1601.0  1603\n",
       "20       Chris Widgren  1632.0  1602\n",
       "21            Kurowska  1600.0  1601\n",
       "22         Colin Kelly  1599.0  1601\n",
       "23               test1  1600.0  1600\n",
       "24               Test1  1600.0  1600\n",
       "25               test2  1600.0  1600\n",
       "26               Test2  1600.0  1600\n",
       "27        Tom Witteman  1600.0  1600\n",
       "28       David Chester  1616.0  1599\n",
       "29        Judy O'Brien  1597.0  1596\n",
       "30        Roger Gibian  1583.0  1594\n",
       "31        Damir Uzunic  1602.0  1589\n",
       "32       Tom Wittemann     NaN  1588\n",
       "33       Stephen Dargo  1581.0  1587\n",
       "34     Jared Sochinsky  1584.0  1587\n",
       "35        Colin Hanson  1584.0  1585\n",
       "36        Chris Greene  1585.0  1585\n",
       "37         Kofi Wilson  1584.0  1585\n",
       "38      Dave Hitchings  1585.0  1585\n",
       "39        Rob Leonardi  1585.0  1585\n",
       "40              Demelo  1584.0  1584\n",
       "41       Amelia Burger  1583.0  1583\n",
       "42          Ian Ainley  1599.0  1583\n",
       "43               Merle  1583.0  1582\n",
       "44          Jeff Weber  1588.0  1574\n",
       "45         Steve Olsen  1585.0  1572\n",
       "46          Pat Murphy  1568.0  1572\n",
       "47        Deb Czeresko  1583.0  1565\n",
       "48         Alyssa Bird  1568.0  1555\n",
       "49       Paul Czeresko  1566.0  1549\n",
       "50        George Brown  1585.0  1532\n",
       "51        Jeff Behrens  1584.0  1528\n",
       "52     Dana Vandagriff  1567.0  1524\n",
       "53         Sarah Mroue  1567.0  1512\n",
       "54        Phil O'Brien  1584.0  1489\n",
       "55    Tiffany Schleigh  1553.0  1488"
      ]
     },
     "execution_count": 51,
     "metadata": {},
     "output_type": "execute_result"
    }
   ],
   "source": [
    "pd.set_option('display.max_rows', None)\n",
    "rankings_df"
   ]
  },
  {
   "cell_type": "code",
   "execution_count": 52,
   "metadata": {
    "scrolled": true
   },
   "outputs": [
    {
     "data": {
      "text/html": [
       "<div>\n",
       "<style scoped>\n",
       "    .dataframe tbody tr th:only-of-type {\n",
       "        vertical-align: middle;\n",
       "    }\n",
       "\n",
       "    .dataframe tbody tr th {\n",
       "        vertical-align: top;\n",
       "    }\n",
       "\n",
       "    .dataframe thead th {\n",
       "        text-align: right;\n",
       "    }\n",
       "</style>\n",
       "<table border=\"1\" class=\"dataframe\">\n",
       "  <thead>\n",
       "    <tr style=\"text-align: right;\">\n",
       "      <th></th>\n",
       "      <th>Ranking</th>\n",
       "      <th>Player</th>\n",
       "      <th>Elo</th>\n",
       "      <th>Wins</th>\n",
       "      <th>Losses</th>\n",
       "      <th>Win%</th>\n",
       "    </tr>\n",
       "  </thead>\n",
       "  <tbody>\n",
       "    <tr>\n",
       "      <th>0</th>\n",
       "      <td>1</td>\n",
       "      <td>Mike Dunlap</td>\n",
       "      <td>1718</td>\n",
       "      <td>11</td>\n",
       "      <td>2</td>\n",
       "      <td>0.846</td>\n",
       "    </tr>\n",
       "    <tr>\n",
       "      <th>1</th>\n",
       "      <td>2</td>\n",
       "      <td>Missy Kayko</td>\n",
       "      <td>1695</td>\n",
       "      <td>10</td>\n",
       "      <td>3</td>\n",
       "      <td>0.769</td>\n",
       "    </tr>\n",
       "    <tr>\n",
       "      <th>8</th>\n",
       "      <td>3</td>\n",
       "      <td>Ben Brown</td>\n",
       "      <td>1682</td>\n",
       "      <td>5</td>\n",
       "      <td>0</td>\n",
       "      <td>1.000</td>\n",
       "    </tr>\n",
       "    <tr>\n",
       "      <th>2</th>\n",
       "      <td>4</td>\n",
       "      <td>Jeff Ziev</td>\n",
       "      <td>1679</td>\n",
       "      <td>10</td>\n",
       "      <td>3</td>\n",
       "      <td>0.769</td>\n",
       "    </tr>\n",
       "    <tr>\n",
       "      <th>7</th>\n",
       "      <td>5</td>\n",
       "      <td>Bob Sauchelli</td>\n",
       "      <td>1652</td>\n",
       "      <td>6</td>\n",
       "      <td>2</td>\n",
       "      <td>0.750</td>\n",
       "    </tr>\n",
       "    <tr>\n",
       "      <th>9</th>\n",
       "      <td>6</td>\n",
       "      <td>Mike Brady</td>\n",
       "      <td>1650</td>\n",
       "      <td>5</td>\n",
       "      <td>1</td>\n",
       "      <td>0.833</td>\n",
       "    </tr>\n",
       "    <tr>\n",
       "      <th>5</th>\n",
       "      <td>7</td>\n",
       "      <td>Eric Papa</td>\n",
       "      <td>1650</td>\n",
       "      <td>7</td>\n",
       "      <td>3</td>\n",
       "      <td>0.700</td>\n",
       "    </tr>\n",
       "    <tr>\n",
       "      <th>4</th>\n",
       "      <td>8</td>\n",
       "      <td>Nelson Bakerman</td>\n",
       "      <td>1649</td>\n",
       "      <td>7</td>\n",
       "      <td>3</td>\n",
       "      <td>0.700</td>\n",
       "    </tr>\n",
       "    <tr>\n",
       "      <th>6</th>\n",
       "      <td>9</td>\n",
       "      <td>Ryan Leggette</td>\n",
       "      <td>1648</td>\n",
       "      <td>6</td>\n",
       "      <td>2</td>\n",
       "      <td>0.750</td>\n",
       "    </tr>\n",
       "    <tr>\n",
       "      <th>3</th>\n",
       "      <td>10</td>\n",
       "      <td>Paul Assad</td>\n",
       "      <td>1648</td>\n",
       "      <td>7</td>\n",
       "      <td>3</td>\n",
       "      <td>0.700</td>\n",
       "    </tr>\n",
       "    <tr>\n",
       "      <th>11</th>\n",
       "      <td>11</td>\n",
       "      <td>Anthony Buccellato</td>\n",
       "      <td>1625</td>\n",
       "      <td>4</td>\n",
       "      <td>2</td>\n",
       "      <td>0.667</td>\n",
       "    </tr>\n",
       "    <tr>\n",
       "      <th>10</th>\n",
       "      <td>12</td>\n",
       "      <td>Adam Fratino</td>\n",
       "      <td>1625</td>\n",
       "      <td>5</td>\n",
       "      <td>3</td>\n",
       "      <td>0.625</td>\n",
       "    </tr>\n",
       "    <tr>\n",
       "      <th>12</th>\n",
       "      <td>13</td>\n",
       "      <td>Ben Cole</td>\n",
       "      <td>1620</td>\n",
       "      <td>4</td>\n",
       "      <td>2</td>\n",
       "      <td>0.667</td>\n",
       "    </tr>\n",
       "    <tr>\n",
       "      <th>23</th>\n",
       "      <td>14</td>\n",
       "      <td>Paul Jones</td>\n",
       "      <td>1613</td>\n",
       "      <td>3</td>\n",
       "      <td>2</td>\n",
       "      <td>0.600</td>\n",
       "    </tr>\n",
       "    <tr>\n",
       "      <th>13</th>\n",
       "      <td>15</td>\n",
       "      <td>Nick Shields</td>\n",
       "      <td>1609</td>\n",
       "      <td>4</td>\n",
       "      <td>3</td>\n",
       "      <td>0.571</td>\n",
       "    </tr>\n",
       "    <tr>\n",
       "      <th>14</th>\n",
       "      <td>16</td>\n",
       "      <td>Matt Bird</td>\n",
       "      <td>1608</td>\n",
       "      <td>4</td>\n",
       "      <td>3</td>\n",
       "      <td>0.571</td>\n",
       "    </tr>\n",
       "    <tr>\n",
       "      <th>15</th>\n",
       "      <td>17</td>\n",
       "      <td>Chris Widgren</td>\n",
       "      <td>1602</td>\n",
       "      <td>4</td>\n",
       "      <td>4</td>\n",
       "      <td>0.500</td>\n",
       "    </tr>\n",
       "    <tr>\n",
       "      <th>24</th>\n",
       "      <td>18</td>\n",
       "      <td>David Chester</td>\n",
       "      <td>1599</td>\n",
       "      <td>3</td>\n",
       "      <td>3</td>\n",
       "      <td>0.500</td>\n",
       "    </tr>\n",
       "    <tr>\n",
       "      <th>20</th>\n",
       "      <td>19</td>\n",
       "      <td>Roger Gibian</td>\n",
       "      <td>1594</td>\n",
       "      <td>3</td>\n",
       "      <td>3</td>\n",
       "      <td>0.500</td>\n",
       "    </tr>\n",
       "    <tr>\n",
       "      <th>19</th>\n",
       "      <td>20</td>\n",
       "      <td>Damir Uzunic</td>\n",
       "      <td>1589</td>\n",
       "      <td>3</td>\n",
       "      <td>4</td>\n",
       "      <td>0.429</td>\n",
       "    </tr>\n",
       "    <tr>\n",
       "      <th>22</th>\n",
       "      <td>21</td>\n",
       "      <td>Tom Wittemann</td>\n",
       "      <td>1588</td>\n",
       "      <td>3</td>\n",
       "      <td>4</td>\n",
       "      <td>0.429</td>\n",
       "    </tr>\n",
       "    <tr>\n",
       "      <th>16</th>\n",
       "      <td>22</td>\n",
       "      <td>Stephen Dargo</td>\n",
       "      <td>1587</td>\n",
       "      <td>4</td>\n",
       "      <td>4</td>\n",
       "      <td>0.500</td>\n",
       "    </tr>\n",
       "    <tr>\n",
       "      <th>17</th>\n",
       "      <td>23</td>\n",
       "      <td>Ian Ainley</td>\n",
       "      <td>1583</td>\n",
       "      <td>4</td>\n",
       "      <td>5</td>\n",
       "      <td>0.444</td>\n",
       "    </tr>\n",
       "    <tr>\n",
       "      <th>21</th>\n",
       "      <td>24</td>\n",
       "      <td>Jeff Weber</td>\n",
       "      <td>1574</td>\n",
       "      <td>3</td>\n",
       "      <td>5</td>\n",
       "      <td>0.375</td>\n",
       "    </tr>\n",
       "    <tr>\n",
       "      <th>18</th>\n",
       "      <td>25</td>\n",
       "      <td>Pat Murphy</td>\n",
       "      <td>1572</td>\n",
       "      <td>3</td>\n",
       "      <td>5</td>\n",
       "      <td>0.375</td>\n",
       "    </tr>\n",
       "    <tr>\n",
       "      <th>28</th>\n",
       "      <td>26</td>\n",
       "      <td>Steve Olsen</td>\n",
       "      <td>1572</td>\n",
       "      <td>2</td>\n",
       "      <td>4</td>\n",
       "      <td>0.333</td>\n",
       "    </tr>\n",
       "    <tr>\n",
       "      <th>26</th>\n",
       "      <td>27</td>\n",
       "      <td>Alyssa Bird</td>\n",
       "      <td>1555</td>\n",
       "      <td>2</td>\n",
       "      <td>5</td>\n",
       "      <td>0.286</td>\n",
       "    </tr>\n",
       "    <tr>\n",
       "      <th>25</th>\n",
       "      <td>28</td>\n",
       "      <td>Paul Czeresko</td>\n",
       "      <td>1549</td>\n",
       "      <td>3</td>\n",
       "      <td>6</td>\n",
       "      <td>0.333</td>\n",
       "    </tr>\n",
       "    <tr>\n",
       "      <th>33</th>\n",
       "      <td>29</td>\n",
       "      <td>George Brown</td>\n",
       "      <td>1532</td>\n",
       "      <td>1</td>\n",
       "      <td>6</td>\n",
       "      <td>0.143</td>\n",
       "    </tr>\n",
       "    <tr>\n",
       "      <th>41</th>\n",
       "      <td>30</td>\n",
       "      <td>Jeff Behrens</td>\n",
       "      <td>1528</td>\n",
       "      <td>0</td>\n",
       "      <td>5</td>\n",
       "      <td>0.000</td>\n",
       "    </tr>\n",
       "    <tr>\n",
       "      <th>40</th>\n",
       "      <td>31</td>\n",
       "      <td>Dana Vandagriff</td>\n",
       "      <td>1524</td>\n",
       "      <td>0</td>\n",
       "      <td>5</td>\n",
       "      <td>0.000</td>\n",
       "    </tr>\n",
       "    <tr>\n",
       "      <th>31</th>\n",
       "      <td>32</td>\n",
       "      <td>Sarah Mroue</td>\n",
       "      <td>1512</td>\n",
       "      <td>1</td>\n",
       "      <td>7</td>\n",
       "      <td>0.125</td>\n",
       "    </tr>\n",
       "    <tr>\n",
       "      <th>38</th>\n",
       "      <td>33</td>\n",
       "      <td>Phil O'Brien</td>\n",
       "      <td>1489</td>\n",
       "      <td>0</td>\n",
       "      <td>8</td>\n",
       "      <td>0.000</td>\n",
       "    </tr>\n",
       "    <tr>\n",
       "      <th>39</th>\n",
       "      <td>34</td>\n",
       "      <td>Tiffany Schleigh</td>\n",
       "      <td>1488</td>\n",
       "      <td>0</td>\n",
       "      <td>8</td>\n",
       "      <td>0.000</td>\n",
       "    </tr>\n",
       "  </tbody>\n",
       "</table>\n",
       "</div>"
      ],
      "text/plain": [
       "    Ranking              Player   Elo  Wins  Losses   Win%\n",
       "0         1         Mike Dunlap  1718    11       2  0.846\n",
       "1         2         Missy Kayko  1695    10       3  0.769\n",
       "8         3           Ben Brown  1682     5       0  1.000\n",
       "2         4           Jeff Ziev  1679    10       3  0.769\n",
       "7         5       Bob Sauchelli  1652     6       2  0.750\n",
       "9         6          Mike Brady  1650     5       1  0.833\n",
       "5         7           Eric Papa  1650     7       3  0.700\n",
       "4         8     Nelson Bakerman  1649     7       3  0.700\n",
       "6         9       Ryan Leggette  1648     6       2  0.750\n",
       "3        10          Paul Assad  1648     7       3  0.700\n",
       "11       11  Anthony Buccellato  1625     4       2  0.667\n",
       "10       12        Adam Fratino  1625     5       3  0.625\n",
       "12       13            Ben Cole  1620     4       2  0.667\n",
       "23       14          Paul Jones  1613     3       2  0.600\n",
       "13       15        Nick Shields  1609     4       3  0.571\n",
       "14       16           Matt Bird  1608     4       3  0.571\n",
       "15       17       Chris Widgren  1602     4       4  0.500\n",
       "24       18       David Chester  1599     3       3  0.500\n",
       "20       19        Roger Gibian  1594     3       3  0.500\n",
       "19       20        Damir Uzunic  1589     3       4  0.429\n",
       "22       21       Tom Wittemann  1588     3       4  0.429\n",
       "16       22       Stephen Dargo  1587     4       4  0.500\n",
       "17       23          Ian Ainley  1583     4       5  0.444\n",
       "21       24          Jeff Weber  1574     3       5  0.375\n",
       "18       25          Pat Murphy  1572     3       5  0.375\n",
       "28       26         Steve Olsen  1572     2       4  0.333\n",
       "26       27         Alyssa Bird  1555     2       5  0.286\n",
       "25       28       Paul Czeresko  1549     3       6  0.333\n",
       "33       29        George Brown  1532     1       6  0.143\n",
       "41       30        Jeff Behrens  1528     0       5  0.000\n",
       "40       31     Dana Vandagriff  1524     0       5  0.000\n",
       "31       32         Sarah Mroue  1512     1       7  0.125\n",
       "38       33        Phil O'Brien  1489     0       8  0.000\n",
       "39       34    Tiffany Schleigh  1488     0       8  0.000"
      ]
     },
     "execution_count": 52,
     "metadata": {},
     "output_type": "execute_result"
    }
   ],
   "source": [
    "# Formatting and Printing Final Table\n",
    "final_table = w_l.merge(rankings_df, how=\"left\", on=\"Player\")\n",
    "final_table_print = final_table.drop('Matches', axis=1)\n",
    "final_table_print['Played'] = final_table_print['Wins'] + final_table_print['Losses']\n",
    "final_table_print = final_table_print[final_table_print['Played'] >= 5]\n",
    "final_table_print['Ranking'] = final_table_print[[\"Elo\",\"Win%\"]].apply(tuple,axis=1)\\\n",
    "             .rank(ascending=False, method=\"min\").astype(int)\n",
    "final_table_print['Ranking'] = final_table_print['Ranking'].round(3)\n",
    "final_table_print['Elo'] = final_table_print['Elo'].round(0)\n",
    "column_names = ['Ranking','Player', \"Elo\", \"Wins\", \"Losses\", \"Win%\"]\n",
    "final_table_print = final_table_print.reindex(columns=column_names)\n",
    "final_table_print = final_table_print.sort_values(by=['Ranking','Win%'],ascending=[True,False])\n",
    "final_table_print"
   ]
  },
  {
   "cell_type": "code",
   "execution_count": 53,
   "metadata": {},
   "outputs": [
    {
     "data": {
      "application/vnd.plotly.v1+json": {
       "config": {
        "plotlyServerURL": "https://plot.ly"
       },
       "data": [
        {
         "cells": {
          "align": "center",
          "fill": {
           "color": "white"
          },
          "font": {
           "color": "black",
           "size": 14
          },
          "format": [
           "1234",
           "",
           "#",
           "#",
           "#",
           ".1%"
          ],
          "height": 30,
          "line": {
           "color": "lightgray"
          },
          "values": [
           [
            1,
            2,
            3,
            4,
            5,
            6,
            7,
            8,
            9,
            10,
            11,
            12,
            13,
            14,
            15,
            16,
            17,
            18,
            19,
            20,
            21,
            22,
            23,
            24,
            25,
            26,
            27,
            28,
            29,
            30,
            31,
            32,
            33,
            34
           ],
           [
            "Mike Dunlap",
            "Missy Kayko",
            "Ben Brown",
            "Jeff Ziev",
            "Bob Sauchelli",
            "Mike Brady",
            "Eric Papa",
            "Nelson Bakerman",
            "Ryan Leggette",
            "Paul Assad",
            "Anthony Buccellato",
            "Adam Fratino",
            "Ben Cole",
            "Paul Jones",
            "Nick Shields",
            "Matt Bird",
            "Chris Widgren",
            "David Chester",
            "Roger Gibian",
            "Damir Uzunic",
            "Tom Wittemann",
            "Stephen Dargo",
            "Ian Ainley",
            "Jeff Weber",
            "Pat Murphy",
            "Steve Olsen",
            "Alyssa Bird",
            "Paul Czeresko",
            "George Brown",
            "Jeff Behrens",
            "Dana Vandagriff",
            "Sarah Mroue",
            "Phil O'Brien",
            "Tiffany Schleigh"
           ],
           [
            1718,
            1695,
            1682,
            1679,
            1652,
            1650,
            1650,
            1649,
            1648,
            1648,
            1625,
            1625,
            1620,
            1613,
            1609,
            1608,
            1602,
            1599,
            1594,
            1589,
            1588,
            1587,
            1583,
            1574,
            1572,
            1572,
            1555,
            1549,
            1532,
            1528,
            1524,
            1512,
            1489,
            1488
           ],
           [
            11,
            10,
            5,
            10,
            6,
            5,
            7,
            7,
            6,
            7,
            4,
            5,
            4,
            3,
            4,
            4,
            4,
            3,
            3,
            3,
            3,
            4,
            4,
            3,
            3,
            2,
            2,
            3,
            1,
            0,
            0,
            1,
            0,
            0
           ],
           [
            2,
            3,
            0,
            3,
            2,
            1,
            3,
            3,
            2,
            3,
            2,
            3,
            2,
            2,
            3,
            3,
            4,
            3,
            3,
            4,
            4,
            4,
            5,
            5,
            5,
            4,
            5,
            6,
            6,
            5,
            5,
            7,
            8,
            8
           ],
           [
            0.846,
            0.769,
            1,
            0.769,
            0.75,
            0.833,
            0.7,
            0.7,
            0.75,
            0.7,
            0.667,
            0.625,
            0.667,
            0.6,
            0.571,
            0.571,
            0.5,
            0.5,
            0.5,
            0.429,
            0.429,
            0.5,
            0.444,
            0.375,
            0.375,
            0.333,
            0.286,
            0.333,
            0.143,
            0,
            0,
            0.125,
            0,
            0
           ]
          ]
         },
         "columnwidth": 20,
         "header": {
          "align": "center",
          "fill": {
           "color": "darkblue"
          },
          "font": {
           "color": "white",
           "size": 16
          },
          "values": [
           "Ranking",
           "Player",
           "Elo",
           "Wins",
           "Losses",
           "Win%"
          ]
         },
         "type": "table"
        }
       ],
       "layout": {
        "autosize": false,
        "height": 2400,
        "template": {
         "data": {
          "bar": [
           {
            "error_x": {
             "color": "#2a3f5f"
            },
            "error_y": {
             "color": "#2a3f5f"
            },
            "marker": {
             "line": {
              "color": "#E5ECF6",
              "width": 0.5
             },
             "pattern": {
              "fillmode": "overlay",
              "size": 10,
              "solidity": 0.2
             }
            },
            "type": "bar"
           }
          ],
          "barpolar": [
           {
            "marker": {
             "line": {
              "color": "#E5ECF6",
              "width": 0.5
             },
             "pattern": {
              "fillmode": "overlay",
              "size": 10,
              "solidity": 0.2
             }
            },
            "type": "barpolar"
           }
          ],
          "carpet": [
           {
            "aaxis": {
             "endlinecolor": "#2a3f5f",
             "gridcolor": "white",
             "linecolor": "white",
             "minorgridcolor": "white",
             "startlinecolor": "#2a3f5f"
            },
            "baxis": {
             "endlinecolor": "#2a3f5f",
             "gridcolor": "white",
             "linecolor": "white",
             "minorgridcolor": "white",
             "startlinecolor": "#2a3f5f"
            },
            "type": "carpet"
           }
          ],
          "choropleth": [
           {
            "colorbar": {
             "outlinewidth": 0,
             "ticks": ""
            },
            "type": "choropleth"
           }
          ],
          "contour": [
           {
            "colorbar": {
             "outlinewidth": 0,
             "ticks": ""
            },
            "colorscale": [
             [
              0,
              "#0d0887"
             ],
             [
              0.1111111111111111,
              "#46039f"
             ],
             [
              0.2222222222222222,
              "#7201a8"
             ],
             [
              0.3333333333333333,
              "#9c179e"
             ],
             [
              0.4444444444444444,
              "#bd3786"
             ],
             [
              0.5555555555555556,
              "#d8576b"
             ],
             [
              0.6666666666666666,
              "#ed7953"
             ],
             [
              0.7777777777777778,
              "#fb9f3a"
             ],
             [
              0.8888888888888888,
              "#fdca26"
             ],
             [
              1,
              "#f0f921"
             ]
            ],
            "type": "contour"
           }
          ],
          "contourcarpet": [
           {
            "colorbar": {
             "outlinewidth": 0,
             "ticks": ""
            },
            "type": "contourcarpet"
           }
          ],
          "heatmap": [
           {
            "colorbar": {
             "outlinewidth": 0,
             "ticks": ""
            },
            "colorscale": [
             [
              0,
              "#0d0887"
             ],
             [
              0.1111111111111111,
              "#46039f"
             ],
             [
              0.2222222222222222,
              "#7201a8"
             ],
             [
              0.3333333333333333,
              "#9c179e"
             ],
             [
              0.4444444444444444,
              "#bd3786"
             ],
             [
              0.5555555555555556,
              "#d8576b"
             ],
             [
              0.6666666666666666,
              "#ed7953"
             ],
             [
              0.7777777777777778,
              "#fb9f3a"
             ],
             [
              0.8888888888888888,
              "#fdca26"
             ],
             [
              1,
              "#f0f921"
             ]
            ],
            "type": "heatmap"
           }
          ],
          "heatmapgl": [
           {
            "colorbar": {
             "outlinewidth": 0,
             "ticks": ""
            },
            "colorscale": [
             [
              0,
              "#0d0887"
             ],
             [
              0.1111111111111111,
              "#46039f"
             ],
             [
              0.2222222222222222,
              "#7201a8"
             ],
             [
              0.3333333333333333,
              "#9c179e"
             ],
             [
              0.4444444444444444,
              "#bd3786"
             ],
             [
              0.5555555555555556,
              "#d8576b"
             ],
             [
              0.6666666666666666,
              "#ed7953"
             ],
             [
              0.7777777777777778,
              "#fb9f3a"
             ],
             [
              0.8888888888888888,
              "#fdca26"
             ],
             [
              1,
              "#f0f921"
             ]
            ],
            "type": "heatmapgl"
           }
          ],
          "histogram": [
           {
            "marker": {
             "pattern": {
              "fillmode": "overlay",
              "size": 10,
              "solidity": 0.2
             }
            },
            "type": "histogram"
           }
          ],
          "histogram2d": [
           {
            "colorbar": {
             "outlinewidth": 0,
             "ticks": ""
            },
            "colorscale": [
             [
              0,
              "#0d0887"
             ],
             [
              0.1111111111111111,
              "#46039f"
             ],
             [
              0.2222222222222222,
              "#7201a8"
             ],
             [
              0.3333333333333333,
              "#9c179e"
             ],
             [
              0.4444444444444444,
              "#bd3786"
             ],
             [
              0.5555555555555556,
              "#d8576b"
             ],
             [
              0.6666666666666666,
              "#ed7953"
             ],
             [
              0.7777777777777778,
              "#fb9f3a"
             ],
             [
              0.8888888888888888,
              "#fdca26"
             ],
             [
              1,
              "#f0f921"
             ]
            ],
            "type": "histogram2d"
           }
          ],
          "histogram2dcontour": [
           {
            "colorbar": {
             "outlinewidth": 0,
             "ticks": ""
            },
            "colorscale": [
             [
              0,
              "#0d0887"
             ],
             [
              0.1111111111111111,
              "#46039f"
             ],
             [
              0.2222222222222222,
              "#7201a8"
             ],
             [
              0.3333333333333333,
              "#9c179e"
             ],
             [
              0.4444444444444444,
              "#bd3786"
             ],
             [
              0.5555555555555556,
              "#d8576b"
             ],
             [
              0.6666666666666666,
              "#ed7953"
             ],
             [
              0.7777777777777778,
              "#fb9f3a"
             ],
             [
              0.8888888888888888,
              "#fdca26"
             ],
             [
              1,
              "#f0f921"
             ]
            ],
            "type": "histogram2dcontour"
           }
          ],
          "mesh3d": [
           {
            "colorbar": {
             "outlinewidth": 0,
             "ticks": ""
            },
            "type": "mesh3d"
           }
          ],
          "parcoords": [
           {
            "line": {
             "colorbar": {
              "outlinewidth": 0,
              "ticks": ""
             }
            },
            "type": "parcoords"
           }
          ],
          "pie": [
           {
            "automargin": true,
            "type": "pie"
           }
          ],
          "scatter": [
           {
            "marker": {
             "colorbar": {
              "outlinewidth": 0,
              "ticks": ""
             }
            },
            "type": "scatter"
           }
          ],
          "scatter3d": [
           {
            "line": {
             "colorbar": {
              "outlinewidth": 0,
              "ticks": ""
             }
            },
            "marker": {
             "colorbar": {
              "outlinewidth": 0,
              "ticks": ""
             }
            },
            "type": "scatter3d"
           }
          ],
          "scattercarpet": [
           {
            "marker": {
             "colorbar": {
              "outlinewidth": 0,
              "ticks": ""
             }
            },
            "type": "scattercarpet"
           }
          ],
          "scattergeo": [
           {
            "marker": {
             "colorbar": {
              "outlinewidth": 0,
              "ticks": ""
             }
            },
            "type": "scattergeo"
           }
          ],
          "scattergl": [
           {
            "marker": {
             "colorbar": {
              "outlinewidth": 0,
              "ticks": ""
             }
            },
            "type": "scattergl"
           }
          ],
          "scattermapbox": [
           {
            "marker": {
             "colorbar": {
              "outlinewidth": 0,
              "ticks": ""
             }
            },
            "type": "scattermapbox"
           }
          ],
          "scatterpolar": [
           {
            "marker": {
             "colorbar": {
              "outlinewidth": 0,
              "ticks": ""
             }
            },
            "type": "scatterpolar"
           }
          ],
          "scatterpolargl": [
           {
            "marker": {
             "colorbar": {
              "outlinewidth": 0,
              "ticks": ""
             }
            },
            "type": "scatterpolargl"
           }
          ],
          "scatterternary": [
           {
            "marker": {
             "colorbar": {
              "outlinewidth": 0,
              "ticks": ""
             }
            },
            "type": "scatterternary"
           }
          ],
          "surface": [
           {
            "colorbar": {
             "outlinewidth": 0,
             "ticks": ""
            },
            "colorscale": [
             [
              0,
              "#0d0887"
             ],
             [
              0.1111111111111111,
              "#46039f"
             ],
             [
              0.2222222222222222,
              "#7201a8"
             ],
             [
              0.3333333333333333,
              "#9c179e"
             ],
             [
              0.4444444444444444,
              "#bd3786"
             ],
             [
              0.5555555555555556,
              "#d8576b"
             ],
             [
              0.6666666666666666,
              "#ed7953"
             ],
             [
              0.7777777777777778,
              "#fb9f3a"
             ],
             [
              0.8888888888888888,
              "#fdca26"
             ],
             [
              1,
              "#f0f921"
             ]
            ],
            "type": "surface"
           }
          ],
          "table": [
           {
            "cells": {
             "fill": {
              "color": "#EBF0F8"
             },
             "line": {
              "color": "white"
             }
            },
            "header": {
             "fill": {
              "color": "#C8D4E3"
             },
             "line": {
              "color": "white"
             }
            },
            "type": "table"
           }
          ]
         },
         "layout": {
          "annotationdefaults": {
           "arrowcolor": "#2a3f5f",
           "arrowhead": 0,
           "arrowwidth": 1
          },
          "autotypenumbers": "strict",
          "coloraxis": {
           "colorbar": {
            "outlinewidth": 0,
            "ticks": ""
           }
          },
          "colorscale": {
           "diverging": [
            [
             0,
             "#8e0152"
            ],
            [
             0.1,
             "#c51b7d"
            ],
            [
             0.2,
             "#de77ae"
            ],
            [
             0.3,
             "#f1b6da"
            ],
            [
             0.4,
             "#fde0ef"
            ],
            [
             0.5,
             "#f7f7f7"
            ],
            [
             0.6,
             "#e6f5d0"
            ],
            [
             0.7,
             "#b8e186"
            ],
            [
             0.8,
             "#7fbc41"
            ],
            [
             0.9,
             "#4d9221"
            ],
            [
             1,
             "#276419"
            ]
           ],
           "sequential": [
            [
             0,
             "#0d0887"
            ],
            [
             0.1111111111111111,
             "#46039f"
            ],
            [
             0.2222222222222222,
             "#7201a8"
            ],
            [
             0.3333333333333333,
             "#9c179e"
            ],
            [
             0.4444444444444444,
             "#bd3786"
            ],
            [
             0.5555555555555556,
             "#d8576b"
            ],
            [
             0.6666666666666666,
             "#ed7953"
            ],
            [
             0.7777777777777778,
             "#fb9f3a"
            ],
            [
             0.8888888888888888,
             "#fdca26"
            ],
            [
             1,
             "#f0f921"
            ]
           ],
           "sequentialminus": [
            [
             0,
             "#0d0887"
            ],
            [
             0.1111111111111111,
             "#46039f"
            ],
            [
             0.2222222222222222,
             "#7201a8"
            ],
            [
             0.3333333333333333,
             "#9c179e"
            ],
            [
             0.4444444444444444,
             "#bd3786"
            ],
            [
             0.5555555555555556,
             "#d8576b"
            ],
            [
             0.6666666666666666,
             "#ed7953"
            ],
            [
             0.7777777777777778,
             "#fb9f3a"
            ],
            [
             0.8888888888888888,
             "#fdca26"
            ],
            [
             1,
             "#f0f921"
            ]
           ]
          },
          "colorway": [
           "#636efa",
           "#EF553B",
           "#00cc96",
           "#ab63fa",
           "#FFA15A",
           "#19d3f3",
           "#FF6692",
           "#B6E880",
           "#FF97FF",
           "#FECB52"
          ],
          "font": {
           "color": "#2a3f5f"
          },
          "geo": {
           "bgcolor": "white",
           "lakecolor": "white",
           "landcolor": "#E5ECF6",
           "showlakes": true,
           "showland": true,
           "subunitcolor": "white"
          },
          "hoverlabel": {
           "align": "left"
          },
          "hovermode": "closest",
          "mapbox": {
           "style": "light"
          },
          "paper_bgcolor": "white",
          "plot_bgcolor": "#E5ECF6",
          "polar": {
           "angularaxis": {
            "gridcolor": "white",
            "linecolor": "white",
            "ticks": ""
           },
           "bgcolor": "#E5ECF6",
           "radialaxis": {
            "gridcolor": "white",
            "linecolor": "white",
            "ticks": ""
           }
          },
          "scene": {
           "xaxis": {
            "backgroundcolor": "#E5ECF6",
            "gridcolor": "white",
            "gridwidth": 2,
            "linecolor": "white",
            "showbackground": true,
            "ticks": "",
            "zerolinecolor": "white"
           },
           "yaxis": {
            "backgroundcolor": "#E5ECF6",
            "gridcolor": "white",
            "gridwidth": 2,
            "linecolor": "white",
            "showbackground": true,
            "ticks": "",
            "zerolinecolor": "white"
           },
           "zaxis": {
            "backgroundcolor": "#E5ECF6",
            "gridcolor": "white",
            "gridwidth": 2,
            "linecolor": "white",
            "showbackground": true,
            "ticks": "",
            "zerolinecolor": "white"
           }
          },
          "shapedefaults": {
           "line": {
            "color": "#2a3f5f"
           }
          },
          "ternary": {
           "aaxis": {
            "gridcolor": "white",
            "linecolor": "white",
            "ticks": ""
           },
           "baxis": {
            "gridcolor": "white",
            "linecolor": "white",
            "ticks": ""
           },
           "bgcolor": "#E5ECF6",
           "caxis": {
            "gridcolor": "white",
            "linecolor": "white",
            "ticks": ""
           }
          },
          "title": {
           "x": 0.05
          },
          "xaxis": {
           "automargin": true,
           "gridcolor": "white",
           "linecolor": "white",
           "ticks": "",
           "title": {
            "standoff": 15
           },
           "zerolinecolor": "white",
           "zerolinewidth": 2
          },
          "yaxis": {
           "automargin": true,
           "gridcolor": "white",
           "linecolor": "white",
           "ticks": "",
           "title": {
            "standoff": 15
           },
           "zerolinecolor": "white",
           "zerolinewidth": 2
          }
         }
        },
        "width": 1100
       }
      },
      "text/html": [
       "<div>                            <div id=\"65189bfc-8d32-4334-b1ee-f4fe61eeb186\" class=\"plotly-graph-div\" style=\"height:2400px; width:1100px;\"></div>            <script type=\"text/javascript\">                require([\"plotly\"], function(Plotly) {                    window.PLOTLYENV=window.PLOTLYENV || {};                                    if (document.getElementById(\"65189bfc-8d32-4334-b1ee-f4fe61eeb186\")) {                    Plotly.newPlot(                        \"65189bfc-8d32-4334-b1ee-f4fe61eeb186\",                        [{\"cells\":{\"align\":\"center\",\"fill\":{\"color\":\"white\"},\"font\":{\"color\":\"black\",\"size\":14},\"format\":[\"1234\",\"\",\"#\",\"#\",\"#\",\".1%\"],\"height\":30,\"line\":{\"color\":\"lightgray\"},\"values\":[[1,2,3,4,5,6,7,8,9,10,11,12,13,14,15,16,17,18,19,20,21,22,23,24,25,26,27,28,29,30,31,32,33,34],[\"Mike Dunlap\",\"Missy Kayko\",\"Ben Brown\",\"Jeff Ziev\",\"Bob Sauchelli\",\"Mike Brady\",\"Eric Papa\",\"Nelson Bakerman\",\"Ryan Leggette\",\"Paul Assad\",\"Anthony Buccellato\",\"Adam Fratino\",\"Ben Cole\",\"Paul Jones\",\"Nick Shields\",\"Matt Bird\",\"Chris Widgren\",\"David Chester\",\"Roger Gibian\",\"Damir Uzunic\",\"Tom Wittemann\",\"Stephen Dargo\",\"Ian Ainley\",\"Jeff Weber\",\"Pat Murphy\",\"Steve Olsen\",\"Alyssa Bird\",\"Paul Czeresko\",\"George Brown\",\"Jeff Behrens\",\"Dana Vandagriff\",\"Sarah Mroue\",\"Phil O'Brien\",\"Tiffany Schleigh\"],[1718,1695,1682,1679,1652,1650,1650,1649,1648,1648,1625,1625,1620,1613,1609,1608,1602,1599,1594,1589,1588,1587,1583,1574,1572,1572,1555,1549,1532,1528,1524,1512,1489,1488],[11,10,5,10,6,5,7,7,6,7,4,5,4,3,4,4,4,3,3,3,3,4,4,3,3,2,2,3,1,0,0,1,0,0],[2,3,0,3,2,1,3,3,2,3,2,3,2,2,3,3,4,3,3,4,4,4,5,5,5,4,5,6,6,5,5,7,8,8],[0.846,0.769,1.0,0.769,0.75,0.833,0.7,0.7,0.75,0.7,0.667,0.625,0.667,0.6,0.571,0.571,0.5,0.5,0.5,0.429,0.429,0.5,0.444,0.375,0.375,0.333,0.286,0.333,0.143,0.0,0.0,0.125,0.0,0.0]]},\"columnwidth\":20,\"header\":{\"align\":\"center\",\"fill\":{\"color\":\"darkblue\"},\"font\":{\"color\":\"white\",\"size\":16},\"values\":[\"Ranking\",\"Player\",\"Elo\",\"Wins\",\"Losses\",\"Win%\"]},\"type\":\"table\"}],                        {\"autosize\":false,\"height\":2400,\"template\":{\"data\":{\"bar\":[{\"error_x\":{\"color\":\"#2a3f5f\"},\"error_y\":{\"color\":\"#2a3f5f\"},\"marker\":{\"line\":{\"color\":\"#E5ECF6\",\"width\":0.5},\"pattern\":{\"fillmode\":\"overlay\",\"size\":10,\"solidity\":0.2}},\"type\":\"bar\"}],\"barpolar\":[{\"marker\":{\"line\":{\"color\":\"#E5ECF6\",\"width\":0.5},\"pattern\":{\"fillmode\":\"overlay\",\"size\":10,\"solidity\":0.2}},\"type\":\"barpolar\"}],\"carpet\":[{\"aaxis\":{\"endlinecolor\":\"#2a3f5f\",\"gridcolor\":\"white\",\"linecolor\":\"white\",\"minorgridcolor\":\"white\",\"startlinecolor\":\"#2a3f5f\"},\"baxis\":{\"endlinecolor\":\"#2a3f5f\",\"gridcolor\":\"white\",\"linecolor\":\"white\",\"minorgridcolor\":\"white\",\"startlinecolor\":\"#2a3f5f\"},\"type\":\"carpet\"}],\"choropleth\":[{\"colorbar\":{\"outlinewidth\":0,\"ticks\":\"\"},\"type\":\"choropleth\"}],\"contour\":[{\"colorbar\":{\"outlinewidth\":0,\"ticks\":\"\"},\"colorscale\":[[0.0,\"#0d0887\"],[0.1111111111111111,\"#46039f\"],[0.2222222222222222,\"#7201a8\"],[0.3333333333333333,\"#9c179e\"],[0.4444444444444444,\"#bd3786\"],[0.5555555555555556,\"#d8576b\"],[0.6666666666666666,\"#ed7953\"],[0.7777777777777778,\"#fb9f3a\"],[0.8888888888888888,\"#fdca26\"],[1.0,\"#f0f921\"]],\"type\":\"contour\"}],\"contourcarpet\":[{\"colorbar\":{\"outlinewidth\":0,\"ticks\":\"\"},\"type\":\"contourcarpet\"}],\"heatmap\":[{\"colorbar\":{\"outlinewidth\":0,\"ticks\":\"\"},\"colorscale\":[[0.0,\"#0d0887\"],[0.1111111111111111,\"#46039f\"],[0.2222222222222222,\"#7201a8\"],[0.3333333333333333,\"#9c179e\"],[0.4444444444444444,\"#bd3786\"],[0.5555555555555556,\"#d8576b\"],[0.6666666666666666,\"#ed7953\"],[0.7777777777777778,\"#fb9f3a\"],[0.8888888888888888,\"#fdca26\"],[1.0,\"#f0f921\"]],\"type\":\"heatmap\"}],\"heatmapgl\":[{\"colorbar\":{\"outlinewidth\":0,\"ticks\":\"\"},\"colorscale\":[[0.0,\"#0d0887\"],[0.1111111111111111,\"#46039f\"],[0.2222222222222222,\"#7201a8\"],[0.3333333333333333,\"#9c179e\"],[0.4444444444444444,\"#bd3786\"],[0.5555555555555556,\"#d8576b\"],[0.6666666666666666,\"#ed7953\"],[0.7777777777777778,\"#fb9f3a\"],[0.8888888888888888,\"#fdca26\"],[1.0,\"#f0f921\"]],\"type\":\"heatmapgl\"}],\"histogram\":[{\"marker\":{\"pattern\":{\"fillmode\":\"overlay\",\"size\":10,\"solidity\":0.2}},\"type\":\"histogram\"}],\"histogram2d\":[{\"colorbar\":{\"outlinewidth\":0,\"ticks\":\"\"},\"colorscale\":[[0.0,\"#0d0887\"],[0.1111111111111111,\"#46039f\"],[0.2222222222222222,\"#7201a8\"],[0.3333333333333333,\"#9c179e\"],[0.4444444444444444,\"#bd3786\"],[0.5555555555555556,\"#d8576b\"],[0.6666666666666666,\"#ed7953\"],[0.7777777777777778,\"#fb9f3a\"],[0.8888888888888888,\"#fdca26\"],[1.0,\"#f0f921\"]],\"type\":\"histogram2d\"}],\"histogram2dcontour\":[{\"colorbar\":{\"outlinewidth\":0,\"ticks\":\"\"},\"colorscale\":[[0.0,\"#0d0887\"],[0.1111111111111111,\"#46039f\"],[0.2222222222222222,\"#7201a8\"],[0.3333333333333333,\"#9c179e\"],[0.4444444444444444,\"#bd3786\"],[0.5555555555555556,\"#d8576b\"],[0.6666666666666666,\"#ed7953\"],[0.7777777777777778,\"#fb9f3a\"],[0.8888888888888888,\"#fdca26\"],[1.0,\"#f0f921\"]],\"type\":\"histogram2dcontour\"}],\"mesh3d\":[{\"colorbar\":{\"outlinewidth\":0,\"ticks\":\"\"},\"type\":\"mesh3d\"}],\"parcoords\":[{\"line\":{\"colorbar\":{\"outlinewidth\":0,\"ticks\":\"\"}},\"type\":\"parcoords\"}],\"pie\":[{\"automargin\":true,\"type\":\"pie\"}],\"scatter\":[{\"marker\":{\"colorbar\":{\"outlinewidth\":0,\"ticks\":\"\"}},\"type\":\"scatter\"}],\"scatter3d\":[{\"line\":{\"colorbar\":{\"outlinewidth\":0,\"ticks\":\"\"}},\"marker\":{\"colorbar\":{\"outlinewidth\":0,\"ticks\":\"\"}},\"type\":\"scatter3d\"}],\"scattercarpet\":[{\"marker\":{\"colorbar\":{\"outlinewidth\":0,\"ticks\":\"\"}},\"type\":\"scattercarpet\"}],\"scattergeo\":[{\"marker\":{\"colorbar\":{\"outlinewidth\":0,\"ticks\":\"\"}},\"type\":\"scattergeo\"}],\"scattergl\":[{\"marker\":{\"colorbar\":{\"outlinewidth\":0,\"ticks\":\"\"}},\"type\":\"scattergl\"}],\"scattermapbox\":[{\"marker\":{\"colorbar\":{\"outlinewidth\":0,\"ticks\":\"\"}},\"type\":\"scattermapbox\"}],\"scatterpolar\":[{\"marker\":{\"colorbar\":{\"outlinewidth\":0,\"ticks\":\"\"}},\"type\":\"scatterpolar\"}],\"scatterpolargl\":[{\"marker\":{\"colorbar\":{\"outlinewidth\":0,\"ticks\":\"\"}},\"type\":\"scatterpolargl\"}],\"scatterternary\":[{\"marker\":{\"colorbar\":{\"outlinewidth\":0,\"ticks\":\"\"}},\"type\":\"scatterternary\"}],\"surface\":[{\"colorbar\":{\"outlinewidth\":0,\"ticks\":\"\"},\"colorscale\":[[0.0,\"#0d0887\"],[0.1111111111111111,\"#46039f\"],[0.2222222222222222,\"#7201a8\"],[0.3333333333333333,\"#9c179e\"],[0.4444444444444444,\"#bd3786\"],[0.5555555555555556,\"#d8576b\"],[0.6666666666666666,\"#ed7953\"],[0.7777777777777778,\"#fb9f3a\"],[0.8888888888888888,\"#fdca26\"],[1.0,\"#f0f921\"]],\"type\":\"surface\"}],\"table\":[{\"cells\":{\"fill\":{\"color\":\"#EBF0F8\"},\"line\":{\"color\":\"white\"}},\"header\":{\"fill\":{\"color\":\"#C8D4E3\"},\"line\":{\"color\":\"white\"}},\"type\":\"table\"}]},\"layout\":{\"annotationdefaults\":{\"arrowcolor\":\"#2a3f5f\",\"arrowhead\":0,\"arrowwidth\":1},\"autotypenumbers\":\"strict\",\"coloraxis\":{\"colorbar\":{\"outlinewidth\":0,\"ticks\":\"\"}},\"colorscale\":{\"diverging\":[[0,\"#8e0152\"],[0.1,\"#c51b7d\"],[0.2,\"#de77ae\"],[0.3,\"#f1b6da\"],[0.4,\"#fde0ef\"],[0.5,\"#f7f7f7\"],[0.6,\"#e6f5d0\"],[0.7,\"#b8e186\"],[0.8,\"#7fbc41\"],[0.9,\"#4d9221\"],[1,\"#276419\"]],\"sequential\":[[0.0,\"#0d0887\"],[0.1111111111111111,\"#46039f\"],[0.2222222222222222,\"#7201a8\"],[0.3333333333333333,\"#9c179e\"],[0.4444444444444444,\"#bd3786\"],[0.5555555555555556,\"#d8576b\"],[0.6666666666666666,\"#ed7953\"],[0.7777777777777778,\"#fb9f3a\"],[0.8888888888888888,\"#fdca26\"],[1.0,\"#f0f921\"]],\"sequentialminus\":[[0.0,\"#0d0887\"],[0.1111111111111111,\"#46039f\"],[0.2222222222222222,\"#7201a8\"],[0.3333333333333333,\"#9c179e\"],[0.4444444444444444,\"#bd3786\"],[0.5555555555555556,\"#d8576b\"],[0.6666666666666666,\"#ed7953\"],[0.7777777777777778,\"#fb9f3a\"],[0.8888888888888888,\"#fdca26\"],[1.0,\"#f0f921\"]]},\"colorway\":[\"#636efa\",\"#EF553B\",\"#00cc96\",\"#ab63fa\",\"#FFA15A\",\"#19d3f3\",\"#FF6692\",\"#B6E880\",\"#FF97FF\",\"#FECB52\"],\"font\":{\"color\":\"#2a3f5f\"},\"geo\":{\"bgcolor\":\"white\",\"lakecolor\":\"white\",\"landcolor\":\"#E5ECF6\",\"showlakes\":true,\"showland\":true,\"subunitcolor\":\"white\"},\"hoverlabel\":{\"align\":\"left\"},\"hovermode\":\"closest\",\"mapbox\":{\"style\":\"light\"},\"paper_bgcolor\":\"white\",\"plot_bgcolor\":\"#E5ECF6\",\"polar\":{\"angularaxis\":{\"gridcolor\":\"white\",\"linecolor\":\"white\",\"ticks\":\"\"},\"bgcolor\":\"#E5ECF6\",\"radialaxis\":{\"gridcolor\":\"white\",\"linecolor\":\"white\",\"ticks\":\"\"}},\"scene\":{\"xaxis\":{\"backgroundcolor\":\"#E5ECF6\",\"gridcolor\":\"white\",\"gridwidth\":2,\"linecolor\":\"white\",\"showbackground\":true,\"ticks\":\"\",\"zerolinecolor\":\"white\"},\"yaxis\":{\"backgroundcolor\":\"#E5ECF6\",\"gridcolor\":\"white\",\"gridwidth\":2,\"linecolor\":\"white\",\"showbackground\":true,\"ticks\":\"\",\"zerolinecolor\":\"white\"},\"zaxis\":{\"backgroundcolor\":\"#E5ECF6\",\"gridcolor\":\"white\",\"gridwidth\":2,\"linecolor\":\"white\",\"showbackground\":true,\"ticks\":\"\",\"zerolinecolor\":\"white\"}},\"shapedefaults\":{\"line\":{\"color\":\"#2a3f5f\"}},\"ternary\":{\"aaxis\":{\"gridcolor\":\"white\",\"linecolor\":\"white\",\"ticks\":\"\"},\"baxis\":{\"gridcolor\":\"white\",\"linecolor\":\"white\",\"ticks\":\"\"},\"bgcolor\":\"#E5ECF6\",\"caxis\":{\"gridcolor\":\"white\",\"linecolor\":\"white\",\"ticks\":\"\"}},\"title\":{\"x\":0.05},\"xaxis\":{\"automargin\":true,\"gridcolor\":\"white\",\"linecolor\":\"white\",\"ticks\":\"\",\"title\":{\"standoff\":15},\"zerolinecolor\":\"white\",\"zerolinewidth\":2},\"yaxis\":{\"automargin\":true,\"gridcolor\":\"white\",\"linecolor\":\"white\",\"ticks\":\"\",\"title\":{\"standoff\":15},\"zerolinecolor\":\"white\",\"zerolinewidth\":2}}},\"width\":1100},                        {\"responsive\": true}                    ).then(function(){\n",
       "                            \n",
       "var gd = document.getElementById('65189bfc-8d32-4334-b1ee-f4fe61eeb186');\n",
       "var x = new MutationObserver(function (mutations, observer) {{\n",
       "        var display = window.getComputedStyle(gd).display;\n",
       "        if (!display || display === 'none') {{\n",
       "            console.log([gd, 'removed!']);\n",
       "            Plotly.purge(gd);\n",
       "            observer.disconnect();\n",
       "        }}\n",
       "}});\n",
       "\n",
       "// Listen for the removal of the full notebook cells\n",
       "var notebookContainer = gd.closest('#notebook-container');\n",
       "if (notebookContainer) {{\n",
       "    x.observe(notebookContainer, {childList: true});\n",
       "}}\n",
       "\n",
       "// Listen for the clearing of the current output cell\n",
       "var outputEl = gd.closest('.output');\n",
       "if (outputEl) {{\n",
       "    x.observe(outputEl, {childList: true});\n",
       "}}\n",
       "\n",
       "                        })                };                });            </script>        </div>"
      ]
     },
     "metadata": {},
     "output_type": "display_data"
    }
   ],
   "source": [
    "rowEvenColor = 'lightgrey'\n",
    "rowOddColor = 'white'\n",
    "\n",
    "fig = go.Figure(data=[go.Table(\n",
    "    header=dict(values=list(column_names),\n",
    "                fill_color='darkblue',\n",
    "                font_color='white',\n",
    "                font_size=16,\n",
    "                align='center'),\n",
    "    cells=dict(values=[\n",
    "                final_table_print.Ranking,\n",
    "                final_table_print.Player,\n",
    "                final_table_print.Elo,\n",
    "                final_table_print.Wins,\n",
    "                final_table_print.Losses, \n",
    "                final_table_print['Win%']\n",
    "                ],\n",
    "               fill_color='white',\n",
    "               font_color='black',\n",
    "               font_size=14,\n",
    "               align='center',\n",
    "               height=30,\n",
    "               line_color='lightgray',\n",
    "               format=[\"1234\",\"\",\"#\",\"#\",\"#\",\".1%\"]\n",
    "               ),\n",
    "    columnwidth=20)])\n",
    "\n",
    "fig.update_layout(\n",
    "    autosize=False,\n",
    "    height=2400,\n",
    "    width=1100)\n",
    "fig.show()\n",
    "fig.write_html(\"final_table.html\", include_plotlyjs=\"cdn\")\n",
    "\n",
    "# final_table_print.to_csv('Rankings_Table.csv',index=False)\n",
    "# final_table_print.to_excel('Rankings_Table.xlsx',index=False)"
   ]
  },
  {
   "cell_type": "code",
   "execution_count": null,
   "metadata": {},
   "outputs": [],
   "source": []
  }
 ],
 "metadata": {
  "kernelspec": {
   "display_name": "Python 3",
   "language": "python",
   "name": "python3"
  },
  "language_info": {
   "codemirror_mode": {
    "name": "ipython",
    "version": 3
   },
   "file_extension": ".py",
   "mimetype": "text/x-python",
   "name": "python",
   "nbconvert_exporter": "python",
   "pygments_lexer": "ipython3",
   "version": "3.9.0"
  }
 },
 "nbformat": 4,
 "nbformat_minor": 4
}
